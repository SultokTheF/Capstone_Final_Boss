✅ Test A → Integration Testing
✅ Test B → Stability Testing
✅ test_cart_stability_under_repeated_operations → Stress Testing
✅ test_order_under_repeated_processing → Stability Testing