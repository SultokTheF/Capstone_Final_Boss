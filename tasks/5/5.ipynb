// #   Class  Precision  Recall  F1-score
// # 0     a      0.500     0.3     0.375
// # 1     b      0.500     0.6     0.545
// # 2     c      0.667     0.8     0.727