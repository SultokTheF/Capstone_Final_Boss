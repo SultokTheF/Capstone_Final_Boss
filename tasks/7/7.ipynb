// # Age Group    n  Estimated Proportion  Standard Error  Adjusted SE (Clustering)  95% CI Lower  95% CI Upper  95% CI Adjusted Lower  95% CI Adjusted Upper  Design Effect
// # 0     18-24  227                 0.151           0.024                     0.025         0.105         0.198                  0.103                   0.20          1.080
// # 1     55-64  212                 0.141           0.024                     0.025         0.094         0.188                  0.093                   0.19          1.072
