1. Hungarian
2. Pascal
3. Hungarian
4. Hungarian
5. Acronym
6. Pascal
7. Hungarian