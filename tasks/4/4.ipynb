// #     Epoch 0, Loss: 0.509569
// # Epoch 1000, Loss: 0.014816
// # Epoch 2000, Loss: 0.006079
// # Epoch 3000, Loss: 0.003917
// # Epoch 4000, Loss: 0.002903
// # Epoch 5000, Loss: 0.002309
// # Epoch 6000, Loss: 0.001917
// # Epoch 7000, Loss: 0.001639
// # Epoch 8000, Loss: 0.001432
// # Epoch 9000, Loss: 0.001271
// # Final Predictions: [[0.99872171]
// #  [0.00100799]]
//
// # a4 = [[0.999], [0.001]]
// # a3.min() = -1.0
// # W4.max() = 3.83
// # W3.min() = -3.19
// # Loss after 10000 epochs: 0.00114
// # NN predicts image of dog