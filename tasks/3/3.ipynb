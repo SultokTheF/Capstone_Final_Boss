// # N=100, alpha=0.1, lambda=0.1            0.28       1.61
// # N=1000, alpha=0.2, lambda=1             0.16       4.59
// # N=10000, alpha=0.3, lambda=10           0.33       2.02
//
// # Number of ones in first 10 predictions: 6